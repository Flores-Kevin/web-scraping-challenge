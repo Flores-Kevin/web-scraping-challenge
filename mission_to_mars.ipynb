{
 "cells": [
  {
   "cell_type": "code",
   "execution_count": 865,
   "id": "de6854ef-9c9b-43f5-ae9c-4dd9096c56af",
   "metadata": {},
   "outputs": [],
   "source": [
    "import pandas as pd\n",
    "from splinter import Browser\n",
    "from bs4 import BeautifulSoup\n",
    "from webdriver_manager.chrome import ChromeDriverManager\n",
    "import pymongo\n",
    "import numpy as np"
   ]
  },
  {
   "cell_type": "code",
   "execution_count": 941,
   "id": "429c4bdf-19d3-452d-8b3e-1b6e0b6e0519",
   "metadata": {},
   "outputs": [],
   "source": [
    "# Declare empty list to append dictionaries to\n",
    "data_list = []"
   ]
  },
  {
   "cell_type": "code",
   "execution_count": 942,
   "id": "602704ea-7224-4bed-887a-87da87a1633b",
   "metadata": {},
   "outputs": [],
   "source": [
    "# Declare data sources\n",
    "url1 = \"https://redplanetscience.com\"\n",
    "url2 = \"https://galaxyfacts-mars.com/\"\n",
    "url3 = \"https://marshemispheres.com/\"\n",
    "url4 = \"https://spaceimages-mars.com/\""
   ]
  },
  {
   "cell_type": "code",
   "execution_count": 943,
   "id": "eb85ef12-b74b-4350-a71e-7e72c376c80d",
   "metadata": {},
   "outputs": [],
   "source": [
    "# Make a table full of facts from earth and mars\n",
    "tables = pd.read_html(url2)\n",
    "df = tables[0]"
   ]
  },
  {
   "cell_type": "code",
   "execution_count": 944,
   "id": "79a2c979-edc0-475a-9bfe-8f0fe0f916f1",
   "metadata": {},
   "outputs": [],
   "source": [
    "# df_dict = df.to_dict('records')\n",
    "df_dict = {\"category\":(df[0].to_list()),\"mars\":(df[1].to_list()),\"earth\":(df[2].to_list())}"
   ]
  },
  {
   "cell_type": "code",
   "execution_count": 945,
   "id": "b01152ac-b82a-4205-92f6-2415743837eb",
   "metadata": {},
   "outputs": [],
   "source": [
    "# Add the newly scraped table to \n",
    "data_list.append(df_dict)"
   ]
  },
  {
   "cell_type": "code",
   "execution_count": 946,
   "id": "5f39719b-fb72-4927-96d6-bc20cbd175df",
   "metadata": {},
   "outputs": [
    {
     "name": "stdout",
     "output_type": "stream",
     "text": [
      "\n"
     ]
    }
   ],
   "source": [
    "# Make a path for browser to visit and scrape data from latest news article\n",
    "executable_path = {'executable_path': ChromeDriverManager().install()}\n",
    "browser = Browser('chrome', ** executable_path, headless=False)\n",
    "browser.visit(url1)"
   ]
  },
  {
   "cell_type": "code",
   "execution_count": 947,
   "id": "fc497497-1839-4a7b-9a16-a8e62b1d09a4",
   "metadata": {},
   "outputs": [],
   "source": [
    "# Use beautiful soup to parse html\n",
    "html = browser.html\n",
    "soup = BeautifulSoup(html, 'html.parser')"
   ]
  },
  {
   "cell_type": "code",
   "execution_count": 948,
   "id": "da067a98-c23f-4428-b643-741a83415347",
   "metadata": {},
   "outputs": [],
   "source": [
    "# Get the newest title\n",
    "title = soup.find('div', class_='content_title')\n",
    "title = title.text.strip()"
   ]
  },
  {
   "cell_type": "code",
   "execution_count": 949,
   "id": "d6b10730-d66b-471a-a896-97838533ae1e",
   "metadata": {},
   "outputs": [],
   "source": [
    "# Get the newest paragraph\n",
    "paragraph = soup.find('div', class_='article_teaser_body')\n",
    "paragraph = paragraph.text.strip()"
   ]
  },
  {
   "cell_type": "code",
   "execution_count": 950,
   "id": "54042cc1-eea0-4d0a-a999-daa1c4e03c77",
   "metadata": {},
   "outputs": [],
   "source": [
    "# Store latest article into a dictionary\n",
    "latest_news = {\n",
    "    \"title\": title,\n",
    "    \"paragraph\": paragraph\n",
    "}"
   ]
  },
  {
   "cell_type": "code",
   "execution_count": 951,
   "id": "28d7552d-34ad-4e47-b611-d0fda782c709",
   "metadata": {},
   "outputs": [],
   "source": [
    "# Append dictionary to list\n",
    "data_list.append(latest_news)"
   ]
  },
  {
   "cell_type": "code",
   "execution_count": 952,
   "id": "a0394b3a-3188-4075-98d8-974274825352",
   "metadata": {},
   "outputs": [],
   "source": [
    "# Make a path for browser to turn into soup and scrape the featured img\n",
    "browser.visit(url4)\n",
    "html = browser.html\n",
    "soup = BeautifulSoup(html, 'html.parser')"
   ]
  },
  {
   "cell_type": "code",
   "execution_count": 953,
   "id": "a9287a7f-0fca-44c4-89c9-7cbd96250f83",
   "metadata": {},
   "outputs": [],
   "source": [
    "# Click on the full image button\n",
    "browser.links.find_by_partial_text('FULL IMAGE').click()"
   ]
  },
  {
   "cell_type": "code",
   "execution_count": 954,
   "id": "90569d21-ba4f-4fdb-8832-67ee1de59e97",
   "metadata": {},
   "outputs": [],
   "source": [
    "# Select the tag with the img link and parse it into a string link.\n",
    "img = soup.find('a', class_='showimg fancybox-thumbs')\n",
    "img = str(img)\n",
    "img = \"https://spaceimages-mars.com/\"+img.split('\"')[3]"
   ]
  },
  {
   "cell_type": "code",
   "execution_count": 955,
   "id": "a237ceeb-07bc-4786-ac66-67e638082901",
   "metadata": {},
   "outputs": [],
   "source": [
    "# Store the link into a dictionary\n",
    "featured_img = {\n",
    "    \"featured_img\": img\n",
    "}"
   ]
  },
  {
   "cell_type": "code",
   "execution_count": 956,
   "id": "4058425a-38a1-42af-8cf7-5fab51fe185b",
   "metadata": {},
   "outputs": [],
   "source": [
    "# Append dictionary to list\n",
    "data_list.append(featured_img)"
   ]
  },
  {
   "cell_type": "code",
   "execution_count": 957,
   "id": "ce8dc840-d7c6-4fde-a123-6afe583d7e28",
   "metadata": {},
   "outputs": [],
   "source": [
    "# Make a path for browser to turn into soup and scrape the hemisphere titles and images\n",
    "browser.visit(url3)\n",
    "html = browser.html\n",
    "soup = BeautifulSoup(html, 'html.parser')\n",
    "item = soup.find_all('div', class_='item')"
   ]
  },
  {
   "cell_type": "code",
   "execution_count": 958,
   "id": "4b18d343-c886-4ebf-951c-9c6e2fc9125b",
   "metadata": {},
   "outputs": [],
   "source": [
    "# Declare empty arrays to add links of images and titles\n",
    "title_list = []\n",
    "img_list = []"
   ]
  },
  {
   "cell_type": "code",
   "execution_count": 959,
   "id": "c08247ff-f008-4bf2-997f-d8a7bf7ce756",
   "metadata": {},
   "outputs": [],
   "source": [
    "# Loop through and add titles and links to the empty array\n",
    "for pic in item:\n",
    "    header = ((str(pic.h3)).split(\"<h3>\")[1])\n",
    "    header = (header.split(\"</h3>\")[0])\n",
    "    title_list.append(header)\n",
    "    img = \"https://marshemispheres.com/\"+str(pic).split('\"')[11]\n",
    "    img_list.append(img)"
   ]
  },
  {
   "cell_type": "code",
   "execution_count": 961,
   "id": "a10c6242-24a8-4772-bb8d-1e3fa6dc3cc4",
   "metadata": {},
   "outputs": [],
   "source": [
    "# Store the links and titles into a dictionary\n",
    "hemispheres = {\n",
    "    \"titles\":title_list,\n",
    "    \"images\":img_list\n",
    "}"
   ]
  },
  {
   "cell_type": "code",
   "execution_count": 962,
   "id": "17e8943e-0b7e-4243-9960-78230df3889e",
   "metadata": {},
   "outputs": [],
   "source": [
    "# Append dictionary to list\n",
    "data_list.append(hemispheres)"
   ]
  },
  {
   "cell_type": "code",
   "execution_count": 963,
   "id": "3cddcf5c-3ecc-4e44-b6d5-22ba5cbb49d3",
   "metadata": {},
   "outputs": [],
   "source": [
    "# Close browser\n",
    "browser.quit()"
   ]
  },
  {
   "cell_type": "code",
   "execution_count": 918,
   "id": "d4e7e61f-e8aa-4402-8ddd-9940e90d7271",
   "metadata": {},
   "outputs": [],
   "source": [
    "# Initialize PyMongo to work with MongoDBs\n",
    "conn = 'mongodb://localhost:27017'\n",
    "client = pymongo.MongoClient(conn)"
   ]
  },
  {
   "cell_type": "code",
   "execution_count": 919,
   "id": "8cbffc17-2fc9-42bf-8ccf-17fead1a735a",
   "metadata": {},
   "outputs": [],
   "source": [
    "#Creates/Defines database in Mongo\n",
    "db = client.mars_db"
   ]
  },
  {
   "cell_type": "code",
   "execution_count": 920,
   "id": "c2cbc156-90be-44e2-8a0f-9696f8ccce6b",
   "metadata": {},
   "outputs": [],
   "source": [
    "#Define tables in database\n",
    "mars = db.mars"
   ]
  },
  {
   "cell_type": "code",
   "execution_count": 921,
   "id": "f24765fe-52b5-4a1a-a87b-89bf263cd7a9",
   "metadata": {},
   "outputs": [
    {
     "data": {
      "text/plain": [
       "<pymongo.results.InsertManyResult at 0x7fba21d0d5b0>"
      ]
     },
     "execution_count": 921,
     "metadata": {},
     "output_type": "execute_result"
    }
   ],
   "source": [
    "#Creates and inserts all dataframes into their tables\n",
    "mars.insert_many(data_list)"
   ]
  }
 ],
 "metadata": {
  "kernelspec": {
   "display_name": "Python 3 (ipykernel)",
   "language": "python",
   "name": "python3"
  },
  "language_info": {
   "codemirror_mode": {
    "name": "ipython",
    "version": 3
   },
   "file_extension": ".py",
   "mimetype": "text/x-python",
   "name": "python",
   "nbconvert_exporter": "python",
   "pygments_lexer": "ipython3",
   "version": "3.9.7"
  },
  "vscode": {
   "interpreter": {
    "hash": "d5ecb1748f467b5d4777d690805f96544439de96e9f967607df4f074097c46db"
   }
  }
 },
 "nbformat": 4,
 "nbformat_minor": 5
}
