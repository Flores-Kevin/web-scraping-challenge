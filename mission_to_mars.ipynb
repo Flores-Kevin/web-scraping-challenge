{
 "cells": [
  {
   "cell_type": "code",
   "execution_count": 366,
   "id": "de6854ef-9c9b-43f5-ae9c-4dd9096c56af",
   "metadata": {},
   "outputs": [],
   "source": [
    "import pandas as pd\n",
    "from splinter import Browser\n",
    "from bs4 import BeautifulSoup\n",
    "from webdriver_manager.chrome import ChromeDriverManager\n",
    "import pymongo\n",
    "import numpy as np"
   ]
  },
  {
   "cell_type": "code",
   "execution_count": 2,
   "id": "33117ff8-66fd-4b0d-9fac-8ecd5c3f54ae",
   "metadata": {},
   "outputs": [],
   "source": [
    "url1 = \"https://redplanetscience.com\""
   ]
  },
  {
   "cell_type": "code",
   "execution_count": 3,
   "id": "463e9f14-78d3-46bc-bf48-ec784123cc55",
   "metadata": {},
   "outputs": [],
   "source": [
    "url2 = \"https://galaxyfacts-mars.com/\""
   ]
  },
  {
   "cell_type": "code",
   "execution_count": 209,
   "id": "4e49654e-1c8d-4cfd-a5ad-187f39830435",
   "metadata": {},
   "outputs": [],
   "source": [
    "url3 = \"https://marshemispheres.com/\""
   ]
  },
  {
   "cell_type": "code",
   "execution_count": 5,
   "id": "0634d032-e107-44b0-89b3-327a2f5b651e",
   "metadata": {},
   "outputs": [],
   "source": [
    "url4 = \"https://spaceimages-mars.com/\""
   ]
  },
  {
   "cell_type": "markdown",
   "id": "c7f238a6-5d28-42ea-805f-3bb2357b9011",
   "metadata": {},
   "source": [
    "This calls pandas to read the tables in second declared html to be cleaned and pushed to database."
   ]
  },
  {
   "cell_type": "code",
   "execution_count": 213,
   "id": "b52539da-a35a-4b85-b7b8-6dfc33a3ff09",
   "metadata": {},
   "outputs": [
    {
     "data": {
      "text/plain": [
       "list"
      ]
     },
     "execution_count": 213,
     "metadata": {},
     "output_type": "execute_result"
    }
   ],
   "source": [
    "tables = pd.read_html(url2)\n",
    "type(tables)"
   ]
  },
  {
   "cell_type": "code",
   "execution_count": 218,
   "id": "c15313c1-6d41-4a44-aa18-c948a95792ee",
   "metadata": {},
   "outputs": [
    {
     "data": {
      "text/html": [
       "<div>\n",
       "<style scoped>\n",
       "    .dataframe tbody tr th:only-of-type {\n",
       "        vertical-align: middle;\n",
       "    }\n",
       "\n",
       "    .dataframe tbody tr th {\n",
       "        vertical-align: top;\n",
       "    }\n",
       "\n",
       "    .dataframe thead th {\n",
       "        text-align: right;\n",
       "    }\n",
       "</style>\n",
       "<table border=\"1\" class=\"dataframe\">\n",
       "  <thead>\n",
       "    <tr style=\"text-align: right;\">\n",
       "      <th></th>\n",
       "      <th>0</th>\n",
       "      <th>1</th>\n",
       "      <th>2</th>\n",
       "    </tr>\n",
       "  </thead>\n",
       "  <tbody>\n",
       "    <tr>\n",
       "      <th>0</th>\n",
       "      <td>Mars - Earth Comparison</td>\n",
       "      <td>Mars</td>\n",
       "      <td>Earth</td>\n",
       "    </tr>\n",
       "    <tr>\n",
       "      <th>1</th>\n",
       "      <td>Diameter:</td>\n",
       "      <td>6,779 km</td>\n",
       "      <td>12,742 km</td>\n",
       "    </tr>\n",
       "    <tr>\n",
       "      <th>2</th>\n",
       "      <td>Mass:</td>\n",
       "      <td>6.39 × 10^23 kg</td>\n",
       "      <td>5.97 × 10^24 kg</td>\n",
       "    </tr>\n",
       "    <tr>\n",
       "      <th>3</th>\n",
       "      <td>Moons:</td>\n",
       "      <td>2</td>\n",
       "      <td>1</td>\n",
       "    </tr>\n",
       "    <tr>\n",
       "      <th>4</th>\n",
       "      <td>Distance from Sun:</td>\n",
       "      <td>227,943,824 km</td>\n",
       "      <td>149,598,262 km</td>\n",
       "    </tr>\n",
       "  </tbody>\n",
       "</table>\n",
       "</div>"
      ],
      "text/plain": [
       "                         0                1                2\n",
       "0  Mars - Earth Comparison             Mars            Earth\n",
       "1                Diameter:         6,779 km        12,742 km\n",
       "2                    Mass:  6.39 × 10^23 kg  5.97 × 10^24 kg\n",
       "3                   Moons:                2                1\n",
       "4       Distance from Sun:   227,943,824 km   149,598,262 km"
      ]
     },
     "execution_count": 218,
     "metadata": {},
     "output_type": "execute_result"
    }
   ],
   "source": [
    "df1 = tables[0]\n",
    "df2 = tables[1]\n",
    "df1.head()"
   ]
  },
  {
   "cell_type": "code",
   "execution_count": 358,
   "id": "cec7fdc3-58c1-4f91-9a72-551acee22f2d",
   "metadata": {},
   "outputs": [
    {
     "data": {
      "text/html": [
       "<div>\n",
       "<style scoped>\n",
       "    .dataframe tbody tr th:only-of-type {\n",
       "        vertical-align: middle;\n",
       "    }\n",
       "\n",
       "    .dataframe tbody tr th {\n",
       "        vertical-align: top;\n",
       "    }\n",
       "\n",
       "    .dataframe thead th {\n",
       "        text-align: right;\n",
       "    }\n",
       "</style>\n",
       "<table border=\"1\" class=\"dataframe\">\n",
       "  <thead>\n",
       "    <tr style=\"text-align: right;\">\n",
       "      <th></th>\n",
       "      <th></th>\n",
       "      <th>Mars</th>\n",
       "      <th>Earth</th>\n",
       "    </tr>\n",
       "  </thead>\n",
       "  <tbody>\n",
       "    <tr>\n",
       "      <th>0</th>\n",
       "      <td>Mars - Earth Comparison</td>\n",
       "      <td>Mars</td>\n",
       "      <td>Earth</td>\n",
       "    </tr>\n",
       "    <tr>\n",
       "      <th>1</th>\n",
       "      <td>Diameter:</td>\n",
       "      <td>6,779 km</td>\n",
       "      <td>12,742 km</td>\n",
       "    </tr>\n",
       "    <tr>\n",
       "      <th>2</th>\n",
       "      <td>Mass:</td>\n",
       "      <td>6.39 × 10^23 kg</td>\n",
       "      <td>5.97 × 10^24 kg</td>\n",
       "    </tr>\n",
       "    <tr>\n",
       "      <th>3</th>\n",
       "      <td>Moons:</td>\n",
       "      <td>2</td>\n",
       "      <td>1</td>\n",
       "    </tr>\n",
       "    <tr>\n",
       "      <th>4</th>\n",
       "      <td>Distance from Sun:</td>\n",
       "      <td>227,943,824 km</td>\n",
       "      <td>149,598,262 km</td>\n",
       "    </tr>\n",
       "    <tr>\n",
       "      <th>5</th>\n",
       "      <td>Length of Year:</td>\n",
       "      <td>687 Earth days</td>\n",
       "      <td>365.24 days</td>\n",
       "    </tr>\n",
       "    <tr>\n",
       "      <th>6</th>\n",
       "      <td>Temperature:</td>\n",
       "      <td>-87 to -5 °C</td>\n",
       "      <td>-88 to 58°C</td>\n",
       "    </tr>\n",
       "  </tbody>\n",
       "</table>\n",
       "</div>"
      ],
      "text/plain": [
       "                                       Mars            Earth\n",
       "0  Mars - Earth Comparison             Mars            Earth\n",
       "1                Diameter:         6,779 km        12,742 km\n",
       "2                    Mass:  6.39 × 10^23 kg  5.97 × 10^24 kg\n",
       "3                   Moons:                2                1\n",
       "4       Distance from Sun:   227,943,824 km   149,598,262 km\n",
       "5          Length of Year:   687 Earth days      365.24 days\n",
       "6             Temperature:     -87 to -5 °C      -88 to 58°C"
      ]
     },
     "execution_count": 358,
     "metadata": {},
     "output_type": "execute_result"
    }
   ],
   "source": [
    "df1 = df1.rename(columns={0:\" \",1:'Mars',2:\"Earth\"})\n",
    "df1"
   ]
  },
  {
   "cell_type": "code",
   "execution_count": 219,
   "id": "d53f6fd9-92b2-4bfe-8785-9f179efaf19f",
   "metadata": {},
   "outputs": [
    {
     "data": {
      "text/html": [
       "<div>\n",
       "<style scoped>\n",
       "    .dataframe tbody tr th:only-of-type {\n",
       "        vertical-align: middle;\n",
       "    }\n",
       "\n",
       "    .dataframe tbody tr th {\n",
       "        vertical-align: top;\n",
       "    }\n",
       "\n",
       "    .dataframe thead th {\n",
       "        text-align: right;\n",
       "    }\n",
       "</style>\n",
       "<table border=\"1\" class=\"dataframe\">\n",
       "  <thead>\n",
       "    <tr style=\"text-align: right;\">\n",
       "      <th></th>\n",
       "      <th>0</th>\n",
       "      <th>1</th>\n",
       "    </tr>\n",
       "  </thead>\n",
       "  <tbody>\n",
       "    <tr>\n",
       "      <th>0</th>\n",
       "      <td>Equatorial Diameter:</td>\n",
       "      <td>6,792 km</td>\n",
       "    </tr>\n",
       "    <tr>\n",
       "      <th>1</th>\n",
       "      <td>Polar Diameter:</td>\n",
       "      <td>6,752 km</td>\n",
       "    </tr>\n",
       "    <tr>\n",
       "      <th>2</th>\n",
       "      <td>Mass:</td>\n",
       "      <td>6.39 × 10^23 kg (0.11 Earths)</td>\n",
       "    </tr>\n",
       "    <tr>\n",
       "      <th>3</th>\n",
       "      <td>Moons:</td>\n",
       "      <td>2 ( Phobos &amp; Deimos )</td>\n",
       "    </tr>\n",
       "    <tr>\n",
       "      <th>4</th>\n",
       "      <td>Orbit Distance:</td>\n",
       "      <td>227,943,824 km (1.38 AU)</td>\n",
       "    </tr>\n",
       "  </tbody>\n",
       "</table>\n",
       "</div>"
      ],
      "text/plain": [
       "                      0                              1\n",
       "0  Equatorial Diameter:                       6,792 km\n",
       "1       Polar Diameter:                       6,752 km\n",
       "2                 Mass:  6.39 × 10^23 kg (0.11 Earths)\n",
       "3                Moons:          2 ( Phobos & Deimos )\n",
       "4       Orbit Distance:       227,943,824 km (1.38 AU)"
      ]
     },
     "execution_count": 219,
     "metadata": {},
     "output_type": "execute_result"
    }
   ],
   "source": [
    "df2.head()"
   ]
  },
  {
   "cell_type": "code",
   "execution_count": 8,
   "id": "c94d4ac4",
   "metadata": {},
   "outputs": [
    {
     "name": "stdout",
     "output_type": "stream",
     "text": [
      "\n"
     ]
    }
   ],
   "source": [
    "executable_path = {'executable_path': ChromeDriverManager().install()}\n",
    "browser = Browser('chrome', ** executable_path, headless=False)"
   ]
  },
  {
   "cell_type": "code",
   "execution_count": 87,
   "id": "d5c92a59",
   "metadata": {},
   "outputs": [],
   "source": [
    "browser.visit(url1)"
   ]
  },
  {
   "cell_type": "code",
   "execution_count": 88,
   "id": "438c1aa0",
   "metadata": {},
   "outputs": [],
   "source": [
    "html = browser.html\n",
    "soup = BeautifulSoup(html, 'html.parser')"
   ]
  },
  {
   "cell_type": "code",
   "execution_count": 89,
   "id": "463b0328",
   "metadata": {},
   "outputs": [],
   "source": [
    "titles = []\n",
    "paragraphs = []"
   ]
  },
  {
   "cell_type": "code",
   "execution_count": 90,
   "id": "018a12d4-16a0-463f-97e9-5ce3f35fc870",
   "metadata": {},
   "outputs": [],
   "source": [
    "title = soup.find_all('div', class_='content_title')"
   ]
  },
  {
   "cell_type": "code",
   "execution_count": 98,
   "id": "9f2b5dfa-3a59-412b-b37f-70f3cb433be5",
   "metadata": {},
   "outputs": [],
   "source": [
    "for i in title:\n",
    "    string = i.text.strip()\n",
    "    titles.append(string)"
   ]
  },
  {
   "cell_type": "code",
   "execution_count": 102,
   "id": "7553169c-17a4-44b2-99b6-f02c77963ce1",
   "metadata": {},
   "outputs": [],
   "source": [
    "paragraph = soup.find_all('div', class_='article_teaser_body')"
   ]
  },
  {
   "cell_type": "code",
   "execution_count": 103,
   "id": "bc25bde8-f481-43b7-b53f-f2a40f4ce15b",
   "metadata": {},
   "outputs": [],
   "source": [
    "for x in paragraph:\n",
    "    paragraphs.append(x.text.strip())"
   ]
  },
  {
   "cell_type": "code",
   "execution_count": 381,
   "id": "dd2169ae-44c3-433b-a786-317aa4c057c8",
   "metadata": {},
   "outputs": [
    {
     "name": "stdout",
     "output_type": "stream",
     "text": [
      "NASA's Mars Helicopter Attached to Mars 2020 Rover\n",
      "The helicopter will be first aircraft to perform flight tests on another planet.\n"
     ]
    }
   ],
   "source": [
    "print(titles[0])\n",
    "print(paragraphs[0])"
   ]
  },
  {
   "cell_type": "code",
   "execution_count": 382,
   "id": "73cb27c1-a1fc-423b-b545-f0c292462e8c",
   "metadata": {},
   "outputs": [],
   "source": [
    "latest_title = [titles[0]]"
   ]
  },
  {
   "cell_type": "code",
   "execution_count": 383,
   "id": "a1dc0abb-49c2-469f-a96e-86422a173ede",
   "metadata": {},
   "outputs": [],
   "source": [
    "latest_paragraph = [paragraphs[0]]"
   ]
  },
  {
   "cell_type": "code",
   "execution_count": 384,
   "id": "a2176d49-4ef2-4435-995a-b9c085b8dd83",
   "metadata": {},
   "outputs": [
    {
     "name": "stdout",
     "output_type": "stream",
     "text": [
      "[\"NASA's Mars Helicopter Attached to Mars 2020 Rover\"\n",
      " 'The helicopter will be first aircraft to perform flight tests on another planet.']\n"
     ]
    }
   ],
   "source": [
    "print(latest_news)"
   ]
  },
  {
   "cell_type": "code",
   "execution_count": 385,
   "id": "e7b46229-635a-487e-9d02-79dad559cc3a",
   "metadata": {},
   "outputs": [],
   "source": [
    "latest_title = np.array(latest_title)\n",
    "latest_paragraph = np.array(latest_paragraph)"
   ]
  },
  {
   "cell_type": "code",
   "execution_count": 387,
   "id": "fd519fa1-2506-4a88-9bba-47a9b76607a7",
   "metadata": {},
   "outputs": [
    {
     "data": {
      "text/plain": [
       "array(['The helicopter will be first aircraft to perform flight tests on another planet.'],\n",
       "      dtype='<U80')"
      ]
     },
     "execution_count": 387,
     "metadata": {},
     "output_type": "execute_result"
    }
   ],
   "source": [
    "latest_paragraph"
   ]
  },
  {
   "cell_type": "code",
   "execution_count": 389,
   "id": "b15e70b7-0d23-4b17-8651-55bfe2e9021b",
   "metadata": {},
   "outputs": [],
   "source": [
    "latest_news = pd.DataFrame({\"title\":latest_title,\"paragraph\":latest_paragraph})"
   ]
  },
  {
   "cell_type": "code",
   "execution_count": 390,
   "id": "6143c0a1-b83c-462d-a88e-7bca9173af45",
   "metadata": {},
   "outputs": [
    {
     "data": {
      "text/html": [
       "<div>\n",
       "<style scoped>\n",
       "    .dataframe tbody tr th:only-of-type {\n",
       "        vertical-align: middle;\n",
       "    }\n",
       "\n",
       "    .dataframe tbody tr th {\n",
       "        vertical-align: top;\n",
       "    }\n",
       "\n",
       "    .dataframe thead th {\n",
       "        text-align: right;\n",
       "    }\n",
       "</style>\n",
       "<table border=\"1\" class=\"dataframe\">\n",
       "  <thead>\n",
       "    <tr style=\"text-align: right;\">\n",
       "      <th></th>\n",
       "      <th>title</th>\n",
       "      <th>paragraph</th>\n",
       "    </tr>\n",
       "  </thead>\n",
       "  <tbody>\n",
       "    <tr>\n",
       "      <th>0</th>\n",
       "      <td>NASA's Mars Helicopter Attached to Mars 2020 R...</td>\n",
       "      <td>The helicopter will be first aircraft to perfo...</td>\n",
       "    </tr>\n",
       "  </tbody>\n",
       "</table>\n",
       "</div>"
      ],
      "text/plain": [
       "                                               title  \\\n",
       "0  NASA's Mars Helicopter Attached to Mars 2020 R...   \n",
       "\n",
       "                                           paragraph  \n",
       "0  The helicopter will be first aircraft to perfo...  "
      ]
     },
     "execution_count": 390,
     "metadata": {},
     "output_type": "execute_result"
    }
   ],
   "source": [
    "latest_news"
   ]
  },
  {
   "cell_type": "code",
   "execution_count": 106,
   "id": "23b81b1d-e2ba-4ada-9713-25c0e357f83f",
   "metadata": {},
   "outputs": [],
   "source": [
    "browser.visit(url4)"
   ]
  },
  {
   "cell_type": "code",
   "execution_count": 107,
   "id": "f465df4a-7aad-4652-8fb2-4d7606ba9a16",
   "metadata": {},
   "outputs": [],
   "source": [
    "html = browser.html\n",
    "soup = BeautifulSoup(html, 'html.parser')"
   ]
  },
  {
   "cell_type": "code",
   "execution_count": 173,
   "id": "e6059ebc-ba3b-4744-968a-ef1ccf0b7af3",
   "metadata": {},
   "outputs": [],
   "source": [
    "try:\n",
    "    browser.links.find_by_partial_text('FULL IMAGE').click()\n",
    "    img = soup.find('a', class_='showimg fancybox-thumbs')\n",
    "except ElementDoesNotExist:\n",
    "    print(\"Scraping Complete\")"
   ]
  },
  {
   "cell_type": "code",
   "execution_count": 359,
   "id": "5fa0ab98-021f-4514-b293-53252f84206c",
   "metadata": {},
   "outputs": [
    {
     "name": "stdout",
     "output_type": "stream",
     "text": [
      "https://marshemispheres.com/images/4e59980c1c57f89c680c0e1ccabbeff1_valles_marineris_enhanced.tif_thumb.png\n"
     ]
    }
   ],
   "source": [
    "print(img)"
   ]
  },
  {
   "cell_type": "code",
   "execution_count": 196,
   "id": "98d30f1f-9723-45bf-969b-2cceca11c2ea",
   "metadata": {},
   "outputs": [],
   "source": [
    "img = str(img)\n",
    "# print(img)"
   ]
  },
  {
   "cell_type": "code",
   "execution_count": 206,
   "id": "fa1af924-13bb-49eb-a3e8-9627a5b427b5",
   "metadata": {},
   "outputs": [],
   "source": [
    "img = \"https://spaceimages-mars.com/\"+img.split('\"')[3]"
   ]
  },
  {
   "cell_type": "code",
   "execution_count": 397,
   "id": "4f5fe32b-b33e-4e6e-8199-f49ce4108838",
   "metadata": {},
   "outputs": [],
   "source": [
    "img = np.array(img)"
   ]
  },
  {
   "cell_type": "code",
   "execution_count": 406,
   "id": "3681be8c-b825-4167-ba13-4199dbf9720d",
   "metadata": {},
   "outputs": [],
   "source": [
    "featured_img = pd.DataFrame({\"featured_img\":img}, index = [0])"
   ]
  },
  {
   "cell_type": "code",
   "execution_count": 407,
   "id": "e7f5b61e-189b-4f7b-a5ea-9da593fbfab6",
   "metadata": {},
   "outputs": [
    {
     "data": {
      "text/html": [
       "<div>\n",
       "<style scoped>\n",
       "    .dataframe tbody tr th:only-of-type {\n",
       "        vertical-align: middle;\n",
       "    }\n",
       "\n",
       "    .dataframe tbody tr th {\n",
       "        vertical-align: top;\n",
       "    }\n",
       "\n",
       "    .dataframe thead th {\n",
       "        text-align: right;\n",
       "    }\n",
       "</style>\n",
       "<table border=\"1\" class=\"dataframe\">\n",
       "  <thead>\n",
       "    <tr style=\"text-align: right;\">\n",
       "      <th></th>\n",
       "      <th>featured_img</th>\n",
       "    </tr>\n",
       "  </thead>\n",
       "  <tbody>\n",
       "    <tr>\n",
       "      <th>0</th>\n",
       "      <td>https://marshemispheres.com/images/4e59980c1c5...</td>\n",
       "    </tr>\n",
       "  </tbody>\n",
       "</table>\n",
       "</div>"
      ],
      "text/plain": [
       "                                        featured_img\n",
       "0  https://marshemispheres.com/images/4e59980c1c5..."
      ]
     },
     "execution_count": 407,
     "metadata": {},
     "output_type": "execute_result"
    }
   ],
   "source": [
    "featured_img"
   ]
  },
  {
   "cell_type": "code",
   "execution_count": 210,
   "id": "c0628510-0d2e-4417-8a3d-974967d304d3",
   "metadata": {},
   "outputs": [],
   "source": [
    "browser.visit(url3)"
   ]
  },
  {
   "cell_type": "code",
   "execution_count": 211,
   "id": "f557a674-7d73-4cf3-8a8f-e2932bae4666",
   "metadata": {},
   "outputs": [],
   "source": [
    "html = browser.html\n",
    "soup = BeautifulSoup(html, 'html.parser')"
   ]
  },
  {
   "cell_type": "code",
   "execution_count": 284,
   "id": "add5f416-a1c0-4b9e-a5a7-08503998ba91",
   "metadata": {},
   "outputs": [],
   "source": [
    "item = soup.find_all('div', class_='item')"
   ]
  },
  {
   "cell_type": "code",
   "execution_count": 244,
   "id": "9b1e32f3-9fcd-4b0e-b9d9-b878b9a59b79",
   "metadata": {},
   "outputs": [],
   "source": [
    "item = str(item)"
   ]
  },
  {
   "cell_type": "code",
   "execution_count": 331,
   "id": "e443eef4-3604-4fd0-8d0a-9fd73be118d7",
   "metadata": {},
   "outputs": [],
   "source": [
    "title_list = []\n",
    "img_list = []"
   ]
  },
  {
   "cell_type": "code",
   "execution_count": 332,
   "id": "0505cc45-5b2b-4a32-afbb-601a286483bd",
   "metadata": {
    "tags": []
   },
   "outputs": [],
   "source": [
    "for pic in item:\n",
    "    title = ((str(pic.h3)).split(\"<h3>\")[1])\n",
    "    title = (title.split(\"</h3>\")[0])\n",
    "    title_list.append(title)\n",
    "    img = \"https://marshemispheres.com/\"+str(pic).split('\"')[11]\n",
    "    img_list.append(img)"
   ]
  },
  {
   "cell_type": "code",
   "execution_count": 335,
   "id": "402d6297-7f93-4de8-a858-ed778f5f987e",
   "metadata": {},
   "outputs": [
    {
     "name": "stdout",
     "output_type": "stream",
     "text": [
      "https://marshemispheres.com/images/39d3266553462198bd2fbc4d18fbed17_cerberus_enhanced.tif_thumb.png\n",
      "Cerberus Hemisphere Enhanced\n"
     ]
    }
   ],
   "source": [
    "print(img_list[0])\n",
    "print(title_list[0])"
   ]
  },
  {
   "cell_type": "code",
   "execution_count": 392,
   "id": "bbe0c410-253f-49ad-be20-b93dd4bf512c",
   "metadata": {},
   "outputs": [],
   "source": [
    "# lists = zip(img_list,title_list)\n",
    "img_list = np.array(img_list)\n",
    "title_list = np.array(title_list)"
   ]
  },
  {
   "cell_type": "code",
   "execution_count": 421,
   "id": "ecbe5c74-e966-413a-8c1c-3a795b5cdbdc",
   "metadata": {},
   "outputs": [],
   "source": [
    "hemispheres_df = pd.DataFrame({\"images\":img_list,\"titles\":title_list})"
   ]
  },
  {
   "cell_type": "code",
   "execution_count": 422,
   "id": "7d1982cd-8bc7-487c-a40e-9a1eeaed6e29",
   "metadata": {},
   "outputs": [
    {
     "data": {
      "text/html": [
       "<div>\n",
       "<style scoped>\n",
       "    .dataframe tbody tr th:only-of-type {\n",
       "        vertical-align: middle;\n",
       "    }\n",
       "\n",
       "    .dataframe tbody tr th {\n",
       "        vertical-align: top;\n",
       "    }\n",
       "\n",
       "    .dataframe thead th {\n",
       "        text-align: right;\n",
       "    }\n",
       "</style>\n",
       "<table border=\"1\" class=\"dataframe\">\n",
       "  <thead>\n",
       "    <tr style=\"text-align: right;\">\n",
       "      <th></th>\n",
       "      <th>images</th>\n",
       "      <th>titles</th>\n",
       "    </tr>\n",
       "  </thead>\n",
       "  <tbody>\n",
       "    <tr>\n",
       "      <th>0</th>\n",
       "      <td>https://marshemispheres.com/images/39d32665534...</td>\n",
       "      <td>Cerberus Hemisphere Enhanced</td>\n",
       "    </tr>\n",
       "    <tr>\n",
       "      <th>1</th>\n",
       "      <td>https://marshemispheres.com/images/08eac6e22c0...</td>\n",
       "      <td>Schiaparelli Hemisphere Enhanced</td>\n",
       "    </tr>\n",
       "    <tr>\n",
       "      <th>2</th>\n",
       "      <td>https://marshemispheres.com/images/55a0a1e2796...</td>\n",
       "      <td>Syrtis Major Hemisphere Enhanced</td>\n",
       "    </tr>\n",
       "    <tr>\n",
       "      <th>3</th>\n",
       "      <td>https://marshemispheres.com/images/4e59980c1c5...</td>\n",
       "      <td>Valles Marineris Hemisphere Enhanced</td>\n",
       "    </tr>\n",
       "  </tbody>\n",
       "</table>\n",
       "</div>"
      ],
      "text/plain": [
       "                                              images  \\\n",
       "0  https://marshemispheres.com/images/39d32665534...   \n",
       "1  https://marshemispheres.com/images/08eac6e22c0...   \n",
       "2  https://marshemispheres.com/images/55a0a1e2796...   \n",
       "3  https://marshemispheres.com/images/4e59980c1c5...   \n",
       "\n",
       "                                 titles  \n",
       "0          Cerberus Hemisphere Enhanced  \n",
       "1      Schiaparelli Hemisphere Enhanced  \n",
       "2      Syrtis Major Hemisphere Enhanced  \n",
       "3  Valles Marineris Hemisphere Enhanced  "
      ]
     },
     "execution_count": 422,
     "metadata": {},
     "output_type": "execute_result"
    }
   ],
   "source": [
    "hemispheres_df"
   ]
  },
  {
   "cell_type": "code",
   "execution_count": 336,
   "id": "1bb56cc2-7694-4d4e-a3ae-96f16da0ca54",
   "metadata": {},
   "outputs": [],
   "source": [
    "browser.quit()"
   ]
  },
  {
   "cell_type": "code",
   "execution_count": 416,
   "id": "d4e7e61f-e8aa-4402-8ddd-9940e90d7271",
   "metadata": {},
   "outputs": [],
   "source": [
    "# Initialize PyMongo to work with MongoDBs\n",
    "conn = 'mongodb://localhost:27017'\n",
    "client = pymongo.MongoClient(conn)"
   ]
  },
  {
   "cell_type": "code",
   "execution_count": 417,
   "id": "8cbffc17-2fc9-42bf-8ccf-17fead1a735a",
   "metadata": {},
   "outputs": [],
   "source": [
    "#Creates/Defines database in Mongo\n",
    "db = client.mars_db"
   ]
  },
  {
   "cell_type": "code",
   "execution_count": 418,
   "id": "c2cbc156-90be-44e2-8a0f-9696f8ccce6b",
   "metadata": {},
   "outputs": [],
   "source": [
    "#Define tables in database\n",
    "facts = db.facts\n",
    "news = db.news\n",
    "featured = db.featured\n",
    "hemispheres = db.hemispheres"
   ]
  },
  {
   "cell_type": "code",
   "execution_count": 423,
   "id": "f24765fe-52b5-4a1a-a87b-89bf263cd7a9",
   "metadata": {},
   "outputs": [
    {
     "data": {
      "text/plain": [
       "<pymongo.results.InsertManyResult at 0x7fba20fc7ac0>"
      ]
     },
     "execution_count": 423,
     "metadata": {},
     "output_type": "execute_result"
    }
   ],
   "source": [
    "#Creates and inserts all dataframes into their tables\n",
    "news.insert_many(latest_news.to_dict('records'))\n",
    "facts.insert_many(df1.to_dict('records'))\n",
    "featured.insert_many(featured_img.to_dict('records'))\n",
    "hemispheres.insert_many(hemispheres_df.to_dict('records'))"
   ]
  },
  {
   "cell_type": "code",
   "execution_count": null,
   "id": "5f447a67-45f6-4e21-9505-5c45dcb81e68",
   "metadata": {},
   "outputs": [],
   "source": []
  }
 ],
 "metadata": {
  "kernelspec": {
   "display_name": "Python 3 (ipykernel)",
   "language": "python",
   "name": "python3"
  },
  "language_info": {
   "codemirror_mode": {
    "name": "ipython",
    "version": 3
   },
   "file_extension": ".py",
   "mimetype": "text/x-python",
   "name": "python",
   "nbconvert_exporter": "python",
   "pygments_lexer": "ipython3",
   "version": "3.9.7"
  },
  "vscode": {
   "interpreter": {
    "hash": "d5ecb1748f467b5d4777d690805f96544439de96e9f967607df4f074097c46db"
   }
  }
 },
 "nbformat": 4,
 "nbformat_minor": 5
}
